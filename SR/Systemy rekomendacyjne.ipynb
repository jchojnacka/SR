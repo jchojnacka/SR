{
 "cells": [
  {
   "cell_type": "markdown",
   "metadata": {},
   "source": [
    "# Podsystem analizy wyników eksperymentów wraz z niezbędnymi funkcjami systemu oceny działania systemu rekomendacyjnego"
   ]
  },
  {
   "cell_type": "markdown",
   "metadata": {},
   "source": [
    "#### Realizacja zadania opiera się o zapewnienie poprawnego pomiaru trafności rekomendacji dla dwóch scenariuszy aplikacji systemów rekomendacyjnych:\n",
    "- rekomendacji Top-N (N - długość listy rekomendacyjnej)\n",
    "- rekomendacji tożsamej klasyfikacji binarnej - implementacja dwóch odrębnych trybów pomiaru jakości rekomendacji"
   ]
  },
  {
   "cell_type": "markdown",
   "metadata": {},
   "source": [
    "#### Pomiar jakości musi być zapewniony zgodnie z powszechnie przyjętymi miarami:\n",
    "- dla trybu Top-n: P@N i R@N dla kilku różnych wartości N - najlepiej w postaci krzywej(tj. łamanej) P(R),\n",
    "- dla trybu klasyfikacji binarnej: ACC(accuracy), AUC (Area under Receiver Operating Characteristic Curve) - najlepiej wrazz krzywą ROC."
   ]
  },
  {
   "cell_type": "markdown",
   "metadata": {},
   "source": [
    "## Zagadnienia teoretyczne"
   ]
  },
  {
   "cell_type": "markdown",
   "metadata": {},
   "source": [
    "##### Cztery możliwe przypadki klasyfikacji binarnej:\n",
    "- TP (True Positives) - liczba pozytywnych przypadków poprawnie sklasyfikowanych jako należące do klasy pozytywnej\n",
    "- TN (True Negatives) - liczba negatywnych przypadków poprawnie sklasyfikowanych jako należące do klasy negatywnej\n",
    "- FP (False Postives) - liczba negatywnych przypadków niepoprawnie sklasyfikowanych jako należące do klasy pozytywnej\n",
    "- FN (False Negatives) - liczba pozytywnych przypadków niepoprawnie sklasyfikowanych jako należące do klasy negatywnej\n",
    "\n",
    "\n",
    "    np. Dla klasy pozytywnej - rekomendacji i negatywnej - braku rekomendacji filmów dla użytkowników uzyskamy\n",
    "    TP - Film został zarekomendowany i należy do klasy rekomendacji\n",
    "    TN - Flim nie został zarekomendowany i nie należy do klasy rekomendacji\n",
    "    FP - Film został zarekomendowany i nie należy do klasy rekomendancji\n",
    "    FN - Film nie uzyskał rekomendacji i należy do klasy rekomendacji \n",
    "        \n",
    "##### Trafność (Accuracy)\n",
    "Miara określająca jakość klasyfikatora.\n",
    "   - ACC = (TP + TN) / liczba wszystkich klasyfikacji\n",
    "\n",
    "##### Recall\n",
    "Odpowiada na pyt. \"Ile z pozytywnych przypadków zostało dobrze sklasyfikowanych?\".\n",
    "   - recall = TP / (TP + FN)\n",
    "\n",
    "##### Precision\n",
    "Odpowiada na pyt. \"Ile z pozytywnie sklasyfikowanych przypadków zostało dobrze sklasyfikowane?\".\n",
    "   - precision = TP / (TP + FP)\n",
    "\n",
    "##### Krzywa ROC\n",
    "Pozwala odpowiedzieć na pytanie: \"Jak często model prawidłowo sklasyfikował pozytywne przypadki?\".<br>\n",
    "AUC (Area Under ROC Curve) pozwala porównywać klasyfikatory <br>\n",
    "Idealny klasyfikator ma wartość AUC = 1, losowy 0.5."
   ]
  },
  {
   "cell_type": "markdown",
   "metadata": {},
   "source": [
    "## Zbiór danych MovieLens 20M Dataset\n",
    "- opisuję 5-gwiazdkową ocenę i aktywność tagowania [MovieLens] (http://movielens.org) usługi rekomendacji filmów.\n",
    "- zawiera 20 000 263 ocen i 465 564 aplikacji tagów do 27 278 filmów przez 138 493 użytkowników (okres od 9.01.1995r. do 31.03.2015r.)\n",
    "    - użytkownicy zostali wybrani losowo, wszyscy wybrani ocenili minimum 20 filmów. \n",
    "    - każda osoba jest reprezentowana przez identyfikator i nie są dostarczane żadne inne informacje. \n",
    "\n",
    "#### Dane są zawarte w sześciu plikach:  \n",
    " - \"genome-scores.csv\", \n",
    " - \"genome-tags.csv\", \n",
    " - \"links.csv\",\n",
    " - \"movies.csv\",\n",
    " - \"ratings.csv\",\n",
    " - \"tags.csv\".\n",
    " \n",
    "Pliki są zakodowane jako UTF-8. Zawierają pojedynczy wiersz nagłówka, a kolumny zawierające (‘,’) są znakowane cudzysłowem (””)."
   ]
  },
  {
   "cell_type": "markdown",
   "metadata": {},
   "source": [
    "## Plik ratings.csv \n",
    " - zawiera informacje o ocenach użytkowników\n",
    "     - userId - identyfikator użytkownika wystawiającego ocenę\n",
    "     - movieId - identyfikator ocenianego filmu\n",
    "     - rating - ocena, skala (0.5 - 5.0 gwiazdek)\n",
    "     - timestamp - czas wystawienia oceny (UTC)"
   ]
  },
  {
   "cell_type": "code",
   "execution_count": 7,
   "metadata": {},
   "outputs": [
    {
     "ename": "MemoryError",
     "evalue": "",
     "traceback": [
      "\u001b[1;31m---------------------------------------------------------------------------\u001b[0m",
      "\u001b[1;31mMemoryError\u001b[0m                               Traceback (most recent call last)",
      "\u001b[1;32m<ipython-input-7-6c629e164ec2>\u001b[0m in \u001b[0;36m<module>\u001b[1;34m\u001b[0m\n\u001b[0;32m      3\u001b[0m \u001b[1;33m\u001b[0m\u001b[0m\n\u001b[0;32m      4\u001b[0m \u001b[0msource\u001b[0m \u001b[1;33m=\u001b[0m \u001b[1;34m'C:/Users\\Dell\\Downloads\\ml-20m\\ml-20m/'\u001b[0m\u001b[1;33m\u001b[0m\u001b[1;33m\u001b[0m\u001b[0m\n\u001b[1;32m----> 5\u001b[1;33m \u001b[0mrating\u001b[0m \u001b[1;33m=\u001b[0m \u001b[0mpd\u001b[0m\u001b[1;33m.\u001b[0m\u001b[0mread_csv\u001b[0m\u001b[1;33m(\u001b[0m\u001b[0msource\u001b[0m \u001b[1;33m+\u001b[0m \u001b[1;34m'ratings.csv'\u001b[0m\u001b[1;33m,\u001b[0m \u001b[0msep\u001b[0m\u001b[1;33m=\u001b[0m\u001b[1;34m','\u001b[0m\u001b[1;33m)\u001b[0m\u001b[1;33m\u001b[0m\u001b[1;33m\u001b[0m\u001b[0m\n\u001b[0m",
      "\u001b[1;32mc:\\users\\dell\\appdata\\local\\programs\\python\\python37-32\\lib\\site-packages\\pandas\\io\\parsers.py\u001b[0m in \u001b[0;36mparser_f\u001b[1;34m(filepath_or_buffer, sep, delimiter, header, names, index_col, usecols, squeeze, prefix, mangle_dupe_cols, dtype, engine, converters, true_values, false_values, skipinitialspace, skiprows, nrows, na_values, keep_default_na, na_filter, verbose, skip_blank_lines, parse_dates, infer_datetime_format, keep_date_col, date_parser, dayfirst, iterator, chunksize, compression, thousands, decimal, lineterminator, quotechar, quoting, escapechar, comment, encoding, dialect, tupleize_cols, error_bad_lines, warn_bad_lines, skipfooter, doublequote, delim_whitespace, low_memory, memory_map, float_precision)\u001b[0m\n\u001b[0;32m    676\u001b[0m                     skip_blank_lines=skip_blank_lines)\n\u001b[0;32m    677\u001b[0m \u001b[1;33m\u001b[0m\u001b[0m\n\u001b[1;32m--> 678\u001b[1;33m         \u001b[1;32mreturn\u001b[0m \u001b[0m_read\u001b[0m\u001b[1;33m(\u001b[0m\u001b[0mfilepath_or_buffer\u001b[0m\u001b[1;33m,\u001b[0m \u001b[0mkwds\u001b[0m\u001b[1;33m)\u001b[0m\u001b[1;33m\u001b[0m\u001b[1;33m\u001b[0m\u001b[0m\n\u001b[0m\u001b[0;32m    679\u001b[0m \u001b[1;33m\u001b[0m\u001b[0m\n\u001b[0;32m    680\u001b[0m     \u001b[0mparser_f\u001b[0m\u001b[1;33m.\u001b[0m\u001b[0m__name__\u001b[0m \u001b[1;33m=\u001b[0m \u001b[0mname\u001b[0m\u001b[1;33m\u001b[0m\u001b[1;33m\u001b[0m\u001b[0m\n",
      "\u001b[1;32mc:\\users\\dell\\appdata\\local\\programs\\python\\python37-32\\lib\\site-packages\\pandas\\io\\parsers.py\u001b[0m in \u001b[0;36m_read\u001b[1;34m(filepath_or_buffer, kwds)\u001b[0m\n\u001b[0;32m    444\u001b[0m \u001b[1;33m\u001b[0m\u001b[0m\n\u001b[0;32m    445\u001b[0m     \u001b[1;32mtry\u001b[0m\u001b[1;33m:\u001b[0m\u001b[1;33m\u001b[0m\u001b[1;33m\u001b[0m\u001b[0m\n\u001b[1;32m--> 446\u001b[1;33m         \u001b[0mdata\u001b[0m \u001b[1;33m=\u001b[0m \u001b[0mparser\u001b[0m\u001b[1;33m.\u001b[0m\u001b[0mread\u001b[0m\u001b[1;33m(\u001b[0m\u001b[0mnrows\u001b[0m\u001b[1;33m)\u001b[0m\u001b[1;33m\u001b[0m\u001b[1;33m\u001b[0m\u001b[0m\n\u001b[0m\u001b[0;32m    447\u001b[0m     \u001b[1;32mfinally\u001b[0m\u001b[1;33m:\u001b[0m\u001b[1;33m\u001b[0m\u001b[1;33m\u001b[0m\u001b[0m\n\u001b[0;32m    448\u001b[0m         \u001b[0mparser\u001b[0m\u001b[1;33m.\u001b[0m\u001b[0mclose\u001b[0m\u001b[1;33m(\u001b[0m\u001b[1;33m)\u001b[0m\u001b[1;33m\u001b[0m\u001b[1;33m\u001b[0m\u001b[0m\n",
      "\u001b[1;32mc:\\users\\dell\\appdata\\local\\programs\\python\\python37-32\\lib\\site-packages\\pandas\\io\\parsers.py\u001b[0m in \u001b[0;36mread\u001b[1;34m(self, nrows)\u001b[0m\n\u001b[0;32m   1034\u001b[0m                 \u001b[1;32mraise\u001b[0m \u001b[0mValueError\u001b[0m\u001b[1;33m(\u001b[0m\u001b[1;34m'skipfooter not supported for iteration'\u001b[0m\u001b[1;33m)\u001b[0m\u001b[1;33m\u001b[0m\u001b[1;33m\u001b[0m\u001b[0m\n\u001b[0;32m   1035\u001b[0m \u001b[1;33m\u001b[0m\u001b[0m\n\u001b[1;32m-> 1036\u001b[1;33m         \u001b[0mret\u001b[0m \u001b[1;33m=\u001b[0m \u001b[0mself\u001b[0m\u001b[1;33m.\u001b[0m\u001b[0m_engine\u001b[0m\u001b[1;33m.\u001b[0m\u001b[0mread\u001b[0m\u001b[1;33m(\u001b[0m\u001b[0mnrows\u001b[0m\u001b[1;33m)\u001b[0m\u001b[1;33m\u001b[0m\u001b[1;33m\u001b[0m\u001b[0m\n\u001b[0m\u001b[0;32m   1037\u001b[0m \u001b[1;33m\u001b[0m\u001b[0m\n\u001b[0;32m   1038\u001b[0m         \u001b[1;31m# May alter columns / col_dict\u001b[0m\u001b[1;33m\u001b[0m\u001b[1;33m\u001b[0m\u001b[1;33m\u001b[0m\u001b[0m\n",
      "\u001b[1;32mc:\\users\\dell\\appdata\\local\\programs\\python\\python37-32\\lib\\site-packages\\pandas\\io\\parsers.py\u001b[0m in \u001b[0;36mread\u001b[1;34m(self, nrows)\u001b[0m\n\u001b[0;32m   1846\u001b[0m     \u001b[1;32mdef\u001b[0m \u001b[0mread\u001b[0m\u001b[1;33m(\u001b[0m\u001b[0mself\u001b[0m\u001b[1;33m,\u001b[0m \u001b[0mnrows\u001b[0m\u001b[1;33m=\u001b[0m\u001b[1;32mNone\u001b[0m\u001b[1;33m)\u001b[0m\u001b[1;33m:\u001b[0m\u001b[1;33m\u001b[0m\u001b[1;33m\u001b[0m\u001b[0m\n\u001b[0;32m   1847\u001b[0m         \u001b[1;32mtry\u001b[0m\u001b[1;33m:\u001b[0m\u001b[1;33m\u001b[0m\u001b[1;33m\u001b[0m\u001b[0m\n\u001b[1;32m-> 1848\u001b[1;33m             \u001b[0mdata\u001b[0m \u001b[1;33m=\u001b[0m \u001b[0mself\u001b[0m\u001b[1;33m.\u001b[0m\u001b[0m_reader\u001b[0m\u001b[1;33m.\u001b[0m\u001b[0mread\u001b[0m\u001b[1;33m(\u001b[0m\u001b[0mnrows\u001b[0m\u001b[1;33m)\u001b[0m\u001b[1;33m\u001b[0m\u001b[1;33m\u001b[0m\u001b[0m\n\u001b[0m\u001b[0;32m   1849\u001b[0m         \u001b[1;32mexcept\u001b[0m \u001b[0mStopIteration\u001b[0m\u001b[1;33m:\u001b[0m\u001b[1;33m\u001b[0m\u001b[1;33m\u001b[0m\u001b[0m\n\u001b[0;32m   1850\u001b[0m             \u001b[1;32mif\u001b[0m \u001b[0mself\u001b[0m\u001b[1;33m.\u001b[0m\u001b[0m_first_chunk\u001b[0m\u001b[1;33m:\u001b[0m\u001b[1;33m\u001b[0m\u001b[1;33m\u001b[0m\u001b[0m\n",
      "\u001b[1;32mpandas\\_libs\\parsers.pyx\u001b[0m in \u001b[0;36mpandas._libs.parsers.TextReader.read\u001b[1;34m()\u001b[0m\n",
      "\u001b[1;32mpandas\\_libs\\parsers.pyx\u001b[0m in \u001b[0;36mpandas._libs.parsers.TextReader._read_low_memory\u001b[1;34m()\u001b[0m\n",
      "\u001b[1;32mpandas\\_libs\\parsers.pyx\u001b[0m in \u001b[0;36mpandas._libs.parsers._concatenate_chunks\u001b[1;34m()\u001b[0m\n",
      "\u001b[1;31mMemoryError\u001b[0m: "
     ],
     "output_type": "error"
    }
   ],
   "source": [
    "#biblioteki\n",
    "import pandas as pd\n",
    "import numpy as np\n",
    "\n",
    "#ścieżka i wczytanie danych\n",
    "source = 'C:/Users\\Dell\\Downloads\\ml-20m\\ml-20m/'\n",
    "rating = pd.read_csv(source + 'ratings.csv', sep=',')"
   ]
  }
 ],
 "metadata": {
  "kernelspec": {
   "display_name": "Python 3",
   "language": "python",
   "name": "python3"
  },
  "language_info": {
   "codemirror_mode": {
    "name": "ipython",
    "version": 3
   },
   "file_extension": ".py",
   "mimetype": "text/x-python",
   "name": "python",
   "nbconvert_exporter": "python",
   "pygments_lexer": "ipython3",
   "version": "3.7.1"
  }
 },
 "nbformat": 4,
 "nbformat_minor": 2
}
