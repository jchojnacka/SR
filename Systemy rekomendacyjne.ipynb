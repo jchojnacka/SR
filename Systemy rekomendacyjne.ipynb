{
 "cells": [
  {
   "cell_type": "markdown",
   "metadata": {},
   "source": [
    "# Podsystem analizy wyników eksperymentów wraz z niezbędnymi funkcjami systemu oceny działania systemu rekomendacyjnego"
   ]
  },
  {
   "cell_type": "markdown",
   "metadata": {},
   "source": [
    "#### Realizacja zadania opiera się o zapewnienie poprawnego pomiaru trafności rekomendacji dla dwóch scenariuszy aplikacji systemów rekomendacyjnych:\n",
    "- rekomendacji Top-N (N - długość listy rekomendacyjnej)\n",
    "- rekomendacji tożsamej klasyfikacji binarnej - implementacja dwóch odrębnych trybów pomiaru jakości rekomendacji"
   ]
  },
  {
   "cell_type": "markdown",
   "metadata": {},
   "source": [
    "#### Pomiar jakości musi być zapewniony zgodnie z powszechnie przyjętymi miarami:\n",
    "- dla trybu Top-n: P@N i R@N dla kilku różnych wartości N - najlepiej w postaci krzywej(tj. łamanej) P(R),\n",
    "- dla trybu klasyfikacji binarnej: ACC(accuracy), AUC (Area under Receiver Operating Characteristic Curve) - najlepiej wrazz krzywą ROC."
   ]
  },
  {
   "cell_type": "markdown",
   "metadata": {},
   "source": [
    "## Zagadnienia teoretyczne"
   ]
  },
  {
   "cell_type": "markdown",
   "metadata": {},
   "source": [
    "##### Cztery możliwe przypadki klasyfikacji binarnej:\n",
    "- TP (True Positives) - liczba pozytywnych przypadków poprawnie sklasyfikowanych jako należące do klasy pozytywnej\n",
    "- TN (True Negatives) - liczba negatywnych przypadków poprawnie sklasyfikowanych jako należące do klasy negatywnej\n",
    "- FP (False Postives) - liczba negatywnych przypadków niepoprawnie sklasyfikowanych jako należące do klasy pozytywnej\n",
    "- FN (False Negatives) - liczba pozytywnych przypadków niepoprawnie sklasyfikowanych jako należące do klasy negatywnej\n",
    "\n",
    "\n",
    "    np. Dla klasy pozytywnej - rekomendacji i negatywnej - braku rekomendacji filmów dla użytkowników uzyskamy\n",
    "    TP - Film został zarekomendowany i należy do klasy rekomendacji\n",
    "    TN - Flim nie został zarekomendowany i nie należy do klasy rekomendacji\n",
    "    FP - Film został zarekomendowany i nie należy do klasy rekomendancji\n",
    "    FN - Film nie uzyskał rekomendacji i należy do klasy rekomendacji \n",
    "        \n",
    "##### Trafność (Accuracy)\n",
    "Miara określająca jakość klasyfikatora.\n",
    "   - ACC = (TP + TN) / liczba wszystkich klasyfikacji\n",
    "\n",
    "##### Recall\n",
    "Odpowiada na pyt. \"Ile z pozytywnych przypadków zostało dobrze sklasyfikowanych?\".\n",
    "   - recall = TP / (TP + FN)\n",
    "\n",
    "##### Precision\n",
    "Odpowiada na pyt. \"Ile z pozytywnie sklasyfikowanych przypadków zostało dobrze sklasyfikowane?\".\n",
    "   - precision = TP / (TP + FP)\n",
    "\n",
    "##### Krzywa ROC\n",
    "Pozwala odpowiedzieć na pytanie: \"Jak często model prawidłowo sklasyfikował pozytywne przypadki?\".<br>\n",
    "AUC (Area Under ROC Curve) pozwala porównywać klasyfikatory <br>\n",
    "Idealny klasyfikator ma wartość AUC = 1, losowy 0.5."
   ]
  },
  {
   "cell_type": "markdown",
   "metadata": {},
   "source": [
    "## Zbiór danych MovieLens 20M Dataset\n",
    "- opisuję 5-gwiazdkową ocenę i aktywność tagowania [MovieLens] (http://movielens.org) usługi rekomendacji filmów.\n",
    "- zawiera 20 000 263 ocen i 465 564 aplikacji tagów do 27 278 filmów przez 138 493 użytkowników (okres od 9.01.1995r. do 31.03.2015r.)\n",
    "    - użytkownicy zostali wybrani losowo, wszyscy wybrani ocenili minimum 20 filmów. \n",
    "    - każda osoba jest reprezentowana przez identyfikator i nie są dostarczane żadne inne informacje. \n",
    "\n",
    "#### Dane są zawarte w sześciu plikach:  \n",
    " - \"genome-scores.csv\", \n",
    " - \"genome-tags.csv\", \n",
    " - \"links.csv\",\n",
    " - \"movies.csv\",\n",
    " - \"ratings.csv\",\n",
    " - \"tags.csv\".\n",
    " \n",
    "Pliki są zakodowane jako UTF-8. Zawierają pojedynczy wiersz nagłówka, a kolumny zawierające (‘,’) są znakowane cudzysłowem (””)."
   ]
  },
  {
   "cell_type": "markdown",
   "metadata": {},
   "source": [
    "## Plik ratings.csv \n",
    " - zawiera informacje o ocenach użytkowników\n",
    "     - userId - identyfikator użytkownika wystawiającego ocenę\n",
    "     - movieId - identyfikator ocenianego filmu\n",
    "     - rating - ocena, skala (0.5 - 5.0 gwiazdek)\n",
    "     - timestamp - czas wystawienia oceny (UTC)"
   ]
  },
  {
   "cell_type": "code",
   "execution_count": null,
   "metadata": {},
   "outputs": [],
   "source": [
    "#biblioteki\n",
    "import pandas as pd\n",
    "import numpy as np\n",
    "\n",
    "#ścieżka i wczytanie danych\n",
    "source = 'C:/Users\\Dell\\Downloads\\ml-20m\\ml-20m/'\n",
    "rating = pd.read_csv(source + 'ratings.csv', sep=',')"
   ]
  },
  {
   "cell_type": "code",
   "execution_count": null,
   "metadata": {},
   "outputs": [],
   "source": [
    "rating.head()"
   ]
  }
 ],
 "metadata": {
  "kernelspec": {
   "display_name": "Python 3",
   "language": "python",
   "name": "python3"
  },
  "language_info": {
   "codemirror_mode": {
    "name": "ipython",
    "version": 3
   },
   "file_extension": ".py",
   "mimetype": "text/x-python",
   "name": "python",
   "nbconvert_exporter": "python",
   "pygments_lexer": "ipython3",
   "version": "3.7.1"
  }
 },
 "nbformat": 4,
 "nbformat_minor": 2
}
